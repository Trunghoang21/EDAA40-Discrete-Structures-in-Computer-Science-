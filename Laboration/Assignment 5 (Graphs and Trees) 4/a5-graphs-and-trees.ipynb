{
 "cells": [
  {
   "cell_type": "markdown",
   "metadata": {},
   "source": [
    "# Assignment 5: Graphs and Trees\n",
    "\n",
    "*If something in the assignment is unclear or does not make sense, make a note and ask the lecturer, a TA in the exercise session, or a friend!*\n",
    "\n",
    "### Homework Exercises\n",
    "\n",
    "Solutions to the following exercises are to be handed in, either typed or handwritten. Write neatly and concisely, so the solutions are easy to read. You are allowed (even encouraged) to work in groups, but solutions have to be written and handed in individually. If you worked in groups, please state on your answer sheet who you worked with. \n",
    "\n",
    "\n",
    "1. (EG 6.4, 6.5, 6.6)\n",
    "    * Consider the following statement, which we shall call the \"Sum of Degrees\" lemma: given an undirected graph $G$, the sum of the degrees is always an even number. Prove this statement.\n",
    "        *Hint*: All the edges have two ends.\n",
    "    \n",
    "    * Using the \"Sum of Degrees\" lemma, prove the well-known *Hand-Shaking Lemma*: in every undirected graph, the number of vertices that touch an odd number of edges is even.\n",
    "\n",
    "    * The name of the lemma comes from the analogy that, during a cocktail party where it will always be an even number of guests that have shaken hands an odd number of times. Model this situation using a graph and argue that the hand-shaking lemma implies this fact. What do the nodes in the cocktail party graph represent? And the edges?\n",
    "\n",
    "    * Reprove the hand-shaking lemma, this time by induction on the number of edges.\n",
    "        *Hint*: For every edge, there are three cases. Either both endpoints have even degree, or both have odd degree, or one has even degree and the other has odd degree. What will happen with the number of nodes of odd degree in each of these cases?\n",
    "\n",
    "2. (EG 6.61) Consider the following lemma: For every tree $T = (V, E)$ with $|V| \\geq 1$, it holds that $|V| = |E| + 1$.\n",
    "\n",
    "    * Draw a couple of trees and count the number of edges and vertices, to verify that the previous identity holds in those examples. If you need inspiration, google some examples of trees.\n",
    "\n",
    "    * Prove by induction on the number of nodes $|V|$ that the lemma holds.\n",
    "        *Hint*: The base case is the tree with one node and no edges. For the inductive case, note that a tree with at least two nodes must have at least two leaves; what would happen if we removed one of those leaves and the edge leading to it?\n",
    "\n",
    "    * In fact, the converse is also true for all connected graphs: if $G = (V, E)$ is a connected undirected graph, $|V| \\geq 1$ and $|V| = |E| + 1$, then $G$ is actually a tree. Prove this.\n",
    "        *Hint*: If $G$ is connected and $|V| = |E| + 1$, argue that removing an edge would immediately disconnect a graph. Then, if there was a cycle, what would happen if we removed an edge from the cycle? Would the graph become disconnected?\n",
    "\n"
   ]
  },
  {
   "cell_type": "markdown",
   "metadata": {
    "jp-MarkdownHeadingCollapsed": true
   },
   "source": [
    "#### Homework:\n",
    "##### 1.\n",
    "$\\textbf{Prove the \"Sum of Degrees\" lemma: Given an undirected graph G, the sum of the degrees is always an even number.}$\n",
    "\n",
    "Proof:\n",
    "\n",
    "1. Statement\n",
    "\n",
    "    We will prove that for an undirected graph, the sum of degrees is always an even number\n",
    "\n",
    "2. Definition\n",
    "\n",
    "    Let G = (V,E) represent an undirected graph where V is the set of all vertices, E is the set of all edges\n",
    "\n",
    "    For each vertex $v \\in V$ let deg(v) is the number of edges associated with $v$\n",
    "\n",
    "    We want to prove that $\\sum (v \\in V) deg(v) $ is even\n",
    "\n",
    "3. The proof\n",
    "\n",
    "    Consider the fact that an edge v = {u,v} connects exact 2 vertices u and v in an undirected graph.\n",
    "\n",
    "    The given edge contributes 1 to the deg(u) and 1 to the deg(v)\n",
    "\n",
    "    Therefore, each edge contributes 2 to the sum of degree for all vertices in the graph.\n",
    "\n",
    "    Therefore, $n$ edges will contribute $2 \\times n$ to sum of degrees\n",
    "\n",
    "    Therefore, we have the following notation $\\sum (v \\in V) deg(v) = 2|E|$\n",
    "\n",
    "    Because 2|E| is allways even, so the sum of all degrees must be even\n",
    "\n",
    "\n",
    "$\\textbf{Use the \"Sum of degrees\" lemma to prove the Hand-Shaking lemma}$\n",
    "\n",
    "1. Statement\n",
    "\n",
    "    We are going to prove that in an undirected graph, the number of vertices, which have an odd number of associated edges, must be even\n",
    "\n",
    "2. Definition\n",
    "\n",
    "    Let G =(V,E) represent an undirected graph where V is the set of all vertices, E is the set of all edges.\n",
    "\n",
    "    The set V can be further divided into 2 sets, as follows:\n",
    "\n",
    "    V_odd contains all vertices with the odd number of associated edges.\n",
    "\n",
    "    V_even cotains all vertices with even number of associated edges.\n",
    "\n",
    "3.The proof\n",
    "\n",
    "The sum of degrees can be written as the sum of degrees for 2 subsets V_odd and V_even\n",
    "\n",
    "$\\sum_{v \\in V} deg (v) = \\sum_{v \\in V_even} deg (v) + \\sum_{v \\in V_odd} deg (v) $\n",
    "\n",
    "Based on the \"sum of degrees\" lemma, we have that $\\sum_{v \\in V} deg (v)$ is even.\n",
    "\n",
    "The $\\sum_{v \\in V_even} deg (v)$ is sum of multiple even number. Therefore, $\\sum_{v \\in V_even} deg (v)$ must be even.\n",
    "\n",
    "We have that $\\text{even number = even number + $\\sum_{v \\in V_odd} deg (v)$ }$. Therefore $\\sum_{v \\in V_odd} deg (v)$ must be even.\n",
    "\n",
    "For a sum of odd numbers to be even, the number of terms in the sum must be even.\n",
    "\n",
    "\n",
    "\n",
    "$\\textbf{During a cocktail party where it will always be an even number of guests that have shaken hands an odd number of times.}$\n",
    "\n",
    "We use a graph G = {E,V} for presenting the cocktail party situation.\n",
    "\n",
    "Nodes (vertices) present the guests at the cocktail party. Each node presents a guest\n",
    "\n",
    "Edges present the relation between 2 guests when they have shaken hands.\n",
    "\n",
    "\n",
    "$\\textbf{Reprove the \"hand shaking\" lemma by induction}$\n",
    "\n",
    "1. Statement\n",
    "\n",
    "In an undirected graph, the number of vertices with odd number of edges (odd degree) is even.\n",
    "\n",
    "We are going to prove the statement by induction based on the number of edges |E| in an undirected graph.\n",
    "\n",
    "Let P(m) be the proposition that in an undirected graph, the number of vertices with odd degree is even.\n",
    "\n",
    "2. Base case\n",
    "\n",
    "m = 0, there are no edges in the graph.\n",
    "\n",
    "There are no vertices with odd degree.\n",
    "\n",
    "P(0) holds\n",
    "\n",
    "m = 1, there is one edge that connects 2 nodes. The rest have degrees equal 0.\n",
    "\n",
    "This results in there are 2 nodes with odd degree.\n",
    "\n",
    "P(1) holds\n",
    "\n",
    "m = 2 means that there are 2 edges\n",
    "\n",
    "There are 2 cases.\n",
    "\n",
    "First case, each edge connects 2 nodes that are distinct from each other, which results in 4 nodes with the degree of 1.\n",
    "Second case, two distinct nodes connect to one node, which results in  1 node with the degree of 2, and 2 node with the degree of 1.\n",
    "\n",
    "P(2) holds\n",
    "\n",
    "3. Inductive step\n",
    "\n",
    "The inductive hypothesis is as follows:\n",
    "\n",
    "Assume that proposition P(k) holds for k number of edges in the graph, k > 2. This means that for an undirected graph with k number of edges, the number of vertices with odd degree is even. We denote this graph by G\n",
    "\n",
    "Prove that for m = k + 1, the hypothesis also holds, meaning that for an undirected graph with k + 1 number of edges, the number of vertices with odd degree is even. This graph is denoted by G'\n",
    "\n",
    "Let $N_{odd} (G)$ is the number of vertices with odd degree in graph G. $N_odd (G)$ is even (inductive hypothesis).\n",
    "\n",
    "Let $N_{odd} (G')$ is the number of vertices with odd degree in graph G'.\n",
    "\n",
    "We could construct graph G' by adding an edge e = {u,v} to graph G. Assume that $e \\neq v$, edge e = {u,v} doesn't exist in G before, and vertices u, v are two arbitrary nodes in graph G.\n",
    "\n",
    "Case 1: Vertices u and v have odd degrees.\n",
    "\n",
    "$deg_G (v)$ is odd\n",
    "\n",
    "$deg_G (u)$ is odd\n",
    "\n",
    "By adding edge e = {u, v}, we have the following:\n",
    "\n",
    "$deg_{G'} (u)$ = $deg_G (u)$ + 1 = odd + 1 = even\n",
    "\n",
    "$deg_{G'} (v)$ = $deg_G (v)$ + 1 = odd + 1 = even\n",
    "\n",
    "so u and v now have even degrees, which results in $N_{odd} (G')$ = $N_{odd} (G)$ - 2 = even - 2 = even\n",
    "\n",
    "Case 2: Vertices u and v have even degrees.\n",
    "\n",
    "$deg_G (v)$ is even\n",
    "\n",
    "$deg_G (u)$ is even\n",
    "\n",
    "By adding edge e = {u, v} in graph G', we have the following:\n",
    "\n",
    "$deg_{G'} (u)$ = $deg_G (u)$ + 1 = even + 1 = odd\n",
    "\n",
    "$deg_{G'} (v)$ = $deg_G (v)$ + 1 = even + 1 = odd\n",
    "\n",
    "so u and v now have even degrees, which results in $N_{odd} (G')$ = $N_{odd} (G)$ + 2 = even + 2 = even\n",
    "\n",
    "Case 3: Vertex v has odd degree, vertex u has even degree\n",
    "\n",
    "$deg_{G'} (u)$ = $deg_G (u)$ + 1 = even + 1 = odd\n",
    "\n",
    "$deg_{G'} (v)$ = $deg_G (v)$ + 1 = odd + 1 = even\n",
    "\n",
    "We can add u to and remove v from to the set of vertices with odd degrees in graph G', which leads\n",
    "\n",
    "$N_{odd} (G')$ = $N_{odd} (G)$ + 1 -1 = $N_{odd} (G)$  = even\n",
    "\n",
    "So the proposition P(m) holds for number of edges equals k + 1\n",
    "\n",
    "\n",
    "4. Conclusion\n",
    "\n",
    "We have proven that in an undirected graph, the number of vertices with odd numbers of edges is even.\n"
   ]
  },
  {
   "cell_type": "markdown",
   "metadata": {
    "jp-MarkdownHeadingCollapsed": true
   },
   "source": [
    "#### 2\n",
    "\n",
    "Consider the following lemma: For every tree $T = (V, E)$ with $|V| \\geq 1$, it holds that $|V| = |E| + 1$.\n",
    "\n",
    "$\\textbf{Draw number of tree and verify the lemma}$\n",
    "\n",
    "<img src=\"image.png\" alt=\"Alt Text\" width=\"600\"/>\n",
    "\n",
    "$\\textbf{Prove by induction on the number of nodes |V| that the lemma holds}$\n",
    "\n",
    "1. Statement\n",
    "\n",
    "We are going to prove by induction based on the number of nodes (|V|)that for every tree $T = (V, E)$ with $|V| \\geq 1$, it holds that $|V| = |E| + 1$.\n",
    "\n",
    "Let P(m) be the proposition that $|V| = |E| + 1$ for every tree $T = (V, E)$ with $|V| \\geq 1$, where m is the number of nodes in the tree.\n",
    "\n",
    "2. Base case m = 1\n",
    "\n",
    "For |V| = 1, there is only one node in the tree. Therefore, |E| = 0 \n",
    "\n",
    "Because |V| = |E| + 1 = 0 + 1 = 1, P(m) holds for m = 1\n",
    "\n",
    "3. Inductive step\n",
    "\n",
    "The inductive hypothesis is as follows:\n",
    "\n",
    "Assume that the proposition P(k), where k is the number of nodes, k>1, |V| = |E| + 1\n",
    "\n",
    "Prove that the proposition holds for k-1, where one node is removed from the tree. \n",
    "\n",
    "Case 1: The node is a non-leaf node of degree k. \n",
    "\n",
    "When removing the node from a tree, the tree splits into k separate components. This happens because there is exactly one edge that connects two nodes. \n",
    "\n",
    "The original tree can not be accepted as a tree. \n",
    "\n",
    "Case 2: The node is a leaf.\n",
    "\n",
    "This node is only connected to one other distinct node. \n",
    "\n",
    "After removing the node from the tree, |V'| = |V| - 1\n",
    "\n",
    "Because the leaf node has only one edge, |E'| = |E| -1 -> |E| = |E'| + 1 (1)\n",
    "\n",
    "we have that |V'| = |V| - 1 = |E| + 1 -1 (from inductive hypothesis)\n",
    "\n",
    "= |E| = |E'| + 1 (From (1))\n",
    "\n",
    "Therefore, |V'| = |E'| + 1\n",
    "\n",
    "The proposition is proven for k - 1\n",
    "\n",
    "4. Conclusion\n",
    "\n",
    "\n",
    "For every tree $T = (V, E)$ with $|V| \\geq 1$, $|V| = |E| + 1$ holds.\n",
    "\n",
    "\n",
    "\n",
    "$\\textbf{Prove that converse is also true}$\n",
    "\n",
    "In fact, the converse is also true for all connected graphs: if $G = (V, E)$ is a connected undirected graph, $|V| \\geq 1$ and $|V| = |E| + 1$, then $G$ is actually a tree. Prove this.\n",
    "        *Hint*: If $G$ is connected and $|V| = |E| + 1$, argue that removing an edge would immediately disconnect a graph. Then, if there was a cycle, what would happen if we removed an edge from the cycle? Would the graph become disconnected?\n",
    "\n",
    "Suppose we remove an edge e from G to create G' = (V, E -{e}). For G', we have\n",
    "* |V'| = |V|\n",
    "* |E'| = |E| - 1 -> |E| = |E'| +1\n",
    "\n",
    "Based on our condition |V| = |E| + 1 -> |V'| = (|E'| + 1) +1 = |E'| + 2 -> |E'| = |V'| - 2 (1)\n",
    "\n",
    "We use the property for any connected graph that |E| >= |V| - 1 (2)\n",
    "\n",
    "From (1) and (2), we have a contradiction, G' must be disconnected when removing an edge.  \n",
    "\n",
    "Suppose G contains a cycle. When removing an edge that is a part of that cycle, 2 nodes that form that edge are still reached through the remaining part of the cycle. The graph remains connected. \n",
    "\n",
    "This contradicts the proven fact above. \n",
    "\n",
    "$\\textbf{Conclusion}$\n",
    "\n",
    "From 2 facts proven above, the graph is disconected when an edge is removed, and it can not contains any cycle, graph G must be a tree.\n",
    "\n",
    "\n",
    "\n",
    "\n",
    "\n"
   ]
  },
  {
   "cell_type": "markdown",
   "metadata": {},
   "source": [
    "### Programming Exercise\n",
    "\n",
    "In this programming exercise, we will explore a famous theorem of Leonhard Euler that kickstarted the study of graph theory as we know it today. The problem is motivated by the well-known problem of the seven bridges of Königsberg. The story goes that back when Euler lived in Königsberg, the city had its neighborhoods divided in four areas, which were connected by bridges according to the picture below.\n",
    "\n",
    "<img src=\"bridges1.png\" alt=\"drawing\" width=\"600\"/>\n",
    "\n",
    "It is said that the people of Königsberg would go for walks, starting and finishing at the same area, trying to see if they could cross each bridge exactly one and come back to the place they started at. Sadly, nobody seemed to succeed in this, despite the many variations that they tried.\n",
    "\n",
    "Euler observation is that the map of Königsberg could be simplified into a *graph*: edges would be bridges between nodes that would represent the four areas of the city.\n",
    "\n",
    "**Task 1:** Draw a graph with four nodes and seven edges that captures the bridges of the map of Königsberg, like Euler did.\n",
    "\n",
    "<img src=\"image1.png\" alt=\"Alt Text\" width=\"300\"/>\n",
    "\n",
    "Did you notice something funny? Technically speaking, this graph has repeated edges! This is because to go from the middle neighborhood of the city to the top one, we can take two different bridges. This is technically not allowed in our usual definition of graphs. When we allow this other situation, we say that we have a *multigraph*.\n",
    "\n",
    "When encoding a multigraph, we can no longer encode the edge relation as a set $E \\subseteq V \\times V$, because by definition, sets remove multiple copies of the same set. Hence, it is more convenient to use something like a *list*. While the list $\\mathsf{[1, 2, 2, 3]}$ has two copies of 2, as a set this would become $\\mathsf{\\{ 1, 2, 3 \\}}$. Luckily for us, in Python the most convenient data structure for collections of objects is precisely the *list*, so we are all good.\n",
    "\n",
    "**Task 2:** Suppose we call the four neighborhoods of Königsberg $1, 2, 3, 4$, where 1 corresponds to the central island, 2 and 3 are respectively the North and South parts, and 4 is the Eastern mass of land. Define in Python a list containing the ordered pairs of the edges that are present in the graph above. Below you can see an example. We will adopt the following convention: since the graph is undirected, when adding an edge from $i$ to $j$, we always add the pair $(i, j )$ for $i < j$ and *not* $(j, i)$, although we will assume that $(j, i)$ is also implicit; and if there are multiple copies of the same edge, we will add it multiple times."
   ]
  },
  {
   "cell_type": "code",
   "execution_count": 3,
   "metadata": {},
   "outputs": [],
   "source": [
    "# An example multigraph with 4 nodes and one repeated edge.\n",
    "example_graph = [(1, 2), (1, 3), (1, 4), (2, 4), (3, 4), (3, 4)]\n",
    "\n",
    "# The graph corresponding to the seven bridges of Königsberg.\n",
    "konigsberg = [(1,2),(1,2),(1,3),(1,3),(1,4),(2,4),(3,4)]  # to do"
   ]
  },
  {
   "cell_type": "markdown",
   "metadata": {},
   "source": [
    "Graphs can be represented in many ways. The way we just used considered directly writing all the edges explicitly in a list. How would you check whether two nodes are adjacent using this definition?\n",
    "\n",
    "**Task 3** : Write a function in Python that takes as input a graph $G$ written in the list format above, together with the indices $i$ and $j$ of two nodes, and checks whether there is an edge between them."
   ]
  },
  {
   "cell_type": "code",
   "execution_count": 3,
   "metadata": {},
   "outputs": [
    {
     "name": "stdout",
     "output_type": "stream",
     "text": [
      "True\n",
      "True\n",
      "False\n",
      "True\n"
     ]
    }
   ],
   "source": [
    "def adjacent_list(G, v, w):\n",
    "    return (v,w) in G\n",
    "    \n",
    "\n",
    "\n",
    "print(adjacent_list(example_graph, 1, 3))\n",
    "print(adjacent_list(example_graph, 1, 2))\n",
    "print(adjacent_list(example_graph, 2, 3))\n",
    "print(adjacent_list(example_graph, 3, 4))\n",
    "\n",
    "# The cases should output True, True, False, True\n"
   ]
  },
  {
   "cell_type": "markdown",
   "metadata": {},
   "source": [
    "The way the citizens of Königsberg looked for this special walks was rather rudimentary! They just tried all the possible combinations of paths. A path of the kind they were after is now called an *Eulerian tour*: a closed walk that uses every edge exactly once.\n",
    "\n",
    "**Task 4**: By definition, in an Eulerian tour all edges must be used. Argue that if you have an Eulerian tour, then the closed walk actually involves all the *nodes* in the graph too.\n",
    "\n",
    "What Euler observed is that, in fact, in order to have an Eulerian tour, the degree of every node must be even.\n",
    "\n",
    "$\\textbf{Answer}$\n",
    "\n",
    "For a connected graph in this case, there are edges that connect every vertex in the graph. A closed walk involves that the start point and the end point must be the same. Because of the characteristic of the Eulerian tour, all edges must be used, which means that every vertex will be visted once, except for the start vertex\\end vertex. \n",
    "\n",
    "**Task 5**: Prove **Euler's tours theorem**: in a graph $G$, there exists an Eulerian tour (a closed walk using every edge in the graph exactly once) if and only if the graph is connected and all nodes have even degree.\n",
    "\n",
    "$\\textbf{Answer}$\n",
    "\n",
    "Since the tour visits every edge in E, any two vertices that are connected by an edge must be part of the tour. If there was a vertex with degree > 0 but is not connected to the component containing the other vertices visited by the tour, these edges belongs to that vertex can not be visited. Therefore, the graph must be connected. \n",
    "\n",
    "For the starting\\ending vertex, the tour departs along one edge and returns along another edge. If there exists another vertex from starting\\ending vertex, and it must be visited, the tour would not return to the starting vertex. For other vertices along the path, the tour visits that specific node along one edge, and leaves along another edge from the node. This means that all the nodes must have even degree\n",
    "\n",
    "We will now write a piece of code that can perform this check for us. Before we do that, we will convert our graphs into a more readable format of *adjacency matrices*. In a graph $G$ of $n$ nodes, the adjacency matrix of $G$, denoted $A_G$, is a $n \\times n$ matrix where we write a $1$ if $i$ and $j$ are adjacent (there is an edge between them), and zero otherwise. In the case of multigraphs, the entry $(i, j)$ in the matrix contains the exact number of edges between these two nodes.\n",
    "\n",
    "*Note:* Because our graphs are undirected, the entries $(i, j)$ and $(j, i)$ should be the same.\n",
    "\n",
    "**Task 6:** Write a function $\\mathsf{list\\_to\\_matrix}$ that takes a graph in the list format above and its number of nodes, and outputs the adjacency matrix. The latter is encoded as a list of lists in Python.\n",
    "\n",
    "*Note*: We are indexing $n$ vertices with numbers $1$ to $n$, but Python indices work from $0$ to $n-1$. Take this into account when writing your code!"
   ]
  },
  {
   "cell_type": "code",
   "execution_count": 4,
   "metadata": {},
   "outputs": [
    {
     "name": "stdout",
     "output_type": "stream",
     "text": [
      "[[0, 2, 2, 1], [2, 0, 0, 1], [2, 0, 0, 1], [1, 1, 1, 0]]\n"
     ]
    }
   ],
   "source": [
    "def list_to_matrix(G, n):\n",
    "    matrix = [[0 for _ in range(n)] for _ in range(n)]\n",
    "    for (i,j) in G: \n",
    "        matrix[i-1][j-1] = matrix[i-1][j-1]+1\n",
    "        matrix[j-1][i-1] = matrix[j-1][i-1]+1\n",
    "    return matrix\n",
    "\n",
    "\n",
    "print(list_to_matrix(konigsberg, 4))"
   ]
  },
  {
   "cell_type": "markdown",
   "metadata": {},
   "source": [
    "Let's make sure that the matrices we get are looking good.\n",
    "\n",
    "**Task 7**: Write a Python function that given an adjacency matrix, outputs a list with the elements in the diagonal."
   ]
  },
  {
   "cell_type": "code",
   "execution_count": 8,
   "metadata": {},
   "outputs": [
    {
     "name": "stdout",
     "output_type": "stream",
     "text": [
      "[0, 0, 0, 0]\n"
     ]
    }
   ],
   "source": [
    "def diag(A):\n",
    "    diag_list =[]\n",
    "    for i in range(len(A)):\n",
    "        diag_list.append(A[i][i])\n",
    "    return diag_list\n",
    "\n",
    "\n",
    "print(diag(list_to_matrix(konigsberg, 4)))"
   ]
  },
  {
   "cell_type": "markdown",
   "metadata": {},
   "source": [
    "Did you get the all zeroes list?\n",
    "\n",
    "**Task 8**: Explain why you got the all-zeroes list. Does this make sense? What kind of edges would we have to have in order to find non-zero entries in the diagonals?\n",
    "\n",
    "$\\textbf{Answer:}$\n",
    "\n",
    "We got the all-zeros list because there are no connections (edges) between one part of the city to itself. This does make sense. \n",
    "\n",
    "In order to have non-zero entries in the diagonals, we need to have self-loops, which means that there are edges that connect a node back to itself.\n",
    "\n",
    "**Task 9**: Write a function that checks the degree of a node in a graph, given its adjacency matrix."
   ]
  },
  {
   "cell_type": "code",
   "execution_count": 8,
   "metadata": {},
   "outputs": [
    {
     "name": "stdout",
     "output_type": "stream",
     "text": [
      "3\n"
     ]
    }
   ],
   "source": [
    "def degree(G, v):\n",
    "    deg = 0\n",
    "    for i in range(len(G)):\n",
    "        deg += G[v-1][i]\n",
    "    return deg\n",
    "\n",
    "\n",
    "print(degree(list_to_matrix(konigsberg, 4), 4))"
   ]
  },
  {
   "cell_type": "markdown",
   "metadata": {},
   "source": [
    "**Task 10**: Write a Python function that checks that a connected graph encoded as an adjacency matrix is an Eulerian tour. Conclude using your algorithm that the graph of Königsberg does not contain an Eulerian tour."
   ]
  },
  {
   "cell_type": "code",
   "execution_count": 11,
   "metadata": {},
   "outputs": [
    {
     "name": "stdout",
     "output_type": "stream",
     "text": [
      "False\n",
      "[1, 2, 3, 1, 4, 5, 1]\n"
     ]
    }
   ],
   "source": [
    "def eulerian_tour(A):\n",
    "    l = len(A)\n",
    "    for v in range(l):\n",
    "        if degree(A, v) % 2 == 1:\n",
    "            return False\n",
    "    v = 0\n",
    "    tour = [v+1]\n",
    "    #print(A)\n",
    "    while degree(A, v+1) > 0:\n",
    "        for w in range(l):\n",
    "            if A[v][w] > 0: # or A[w][v] > 0: NOT NEEDED\n",
    "                #print(f\"Nodes {v+1}, {w+1} nr of Edges {A[w][v]}\")\n",
    "                #print(f\"V:{v+1} with adjacency: {A[v]} and {degree(A, v+1)} degree\")\n",
    "                A[v][w] -= 1\n",
    "                A[w][v] -= 1\n",
    "                v = w\n",
    "                break\n",
    "        tour.append(v+1)\n",
    "        #print(tour)\n",
    "\n",
    "\n",
    "\n",
    "    return tour\n",
    "\n",
    "\n",
    "print(eulerian_tour(list_to_matrix(konigsberg, 4)))\n",
    "print(eulerian_tour(list_to_matrix([(1, 2), (1, 3), (1, 4), (1, 5), (2, 3),(4, 5)], 5)))"
   ]
  },
  {
   "cell_type": "markdown",
   "metadata": {},
   "source": [
    "Euler's work was presented to the St. Petersburg Academy of Science on August of 1735 and is considered the first proper theorem of graph theory. Euler's key insight that what mattered was the number of bridges and the list of their endpoints (rather than their exact positions) presaged the development of *topology*: the difference between the actual layout and the graph schematic is a good example of the idea that topology is not concerned with the rigid shape of objects.\n",
    "\n",
    "Hence, as Euler recognized, the \"geometry of position\" is not about \"measurements and calculations\" but about something more general. That called in question the traditional Aristotelian view that mathematics is the \"science of quantity\". Though that view fits arithmetic and Euclidean geometry or calculus, it did not fit topology and the more abstract structural features studied in modern mathematics.\n",
    "\n",
    "During the Second World War, the city of Königsberg (now Kaliningrad, Russia), was heavily bombed and two of the seven bridges were destroyed and never rebuilt. The new map looks as follows; in red and with a square, the missing bridges, and in green and with a circle the present ones.\n",
    "\n",
    "![alt text](bridges2.jpeg)\n",
    "\n",
    "Indeed, Euler's modelling and solution to the problem is so general and elegant that the exact *physical* details of the bridges do not matter, and the solution can be easily adapted to the updated setting.\n",
    "\n",
    "**Task 11**: Write the graph corresponding to the post-war map of Königsberg and check with your function whether it has a Eulerian tour. If so, can you find an explicit such tour? What happens if we relax the condition for a tour and ask simply for a *path* that uses all the edges, but that could possibly start and end at different points?\n"
   ]
  },
  {
   "cell_type": "code",
   "execution_count": 20,
   "metadata": {},
   "outputs": [
    {
     "name": "stdout",
     "output_type": "stream",
     "text": [
      "False\n"
     ]
    }
   ],
   "source": [
    "# the new graph for post-war map of Königsberg\n",
    "post_war = [(1,2),(1,3),(1,4),(2,4),(3,4)]\n",
    "\n",
    "print(eulerian_tour(list_to_matrix(post_war, 4)))"
   ]
  },
  {
   "cell_type": "markdown",
   "metadata": {},
   "source": [
    "Even efter the war, we could not find a Eulerian tour.\n",
    "The graph of the post-war map of Königsberg is as follows:\n",
    "If we relax the condition for a tour, which has a path that uses all the edges, we could construct a path as follows: 142134\n"
   ]
  },
  {
   "cell_type": "code",
   "execution_count": null,
   "metadata": {},
   "outputs": [],
   "source": []
  }
 ],
 "metadata": {
  "kernelspec": {
   "display_name": "Python 3 (ipykernel)",
   "language": "python",
   "name": "python3"
  },
  "language_info": {
   "codemirror_mode": {
    "name": "ipython",
    "version": 3
   },
   "file_extension": ".py",
   "mimetype": "text/x-python",
   "name": "python",
   "nbconvert_exporter": "python",
   "pygments_lexer": "ipython3",
   "version": "3.12.9"
  }
 },
 "nbformat": 4,
 "nbformat_minor": 4
}
