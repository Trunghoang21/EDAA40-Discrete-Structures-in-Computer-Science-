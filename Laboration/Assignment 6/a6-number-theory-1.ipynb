{
 "cells": [
  {
   "cell_type": "markdown",
   "metadata": {},
   "source": [
    "# Assignment 6: Number Theory\n",
    "\n",
    "*If something in the assignment is unclear or does not make sense, make a note and ask the lecturer, a TA in the exercise session, or a friend!*\n",
    "\n",
    "### Homework Exercises\n",
    "\n",
    "Solutions to the following exercises are to be handed in for peer grading, either typed or handwritten. Write neatly and concisely, so the solutions are easy to read. You are allowed (even encouraged) to work in groups, but solutions have to be written and handed in individually. If you worked in groups, please state on your answer sheet who you worked with. \n",
    "\n",
    "\n",
    "1. (MIT 9.21) Consider the following numbers:\n",
    "    $$\n",
    "    \\begin{align}\n",
    "    m &= 2^9 5^{24} 7^4 11^{7} \\\\\n",
    "    n &= 2^3 7^{22} 11^{211} 19^{7} \\\\\n",
    "    p &= 2^5 3^{4} 7^{6042} 19^{30}.\n",
    "    \\end{align}\n",
    "    $$\n",
    "\n",
    "    (a) What is $\\mathrm{gcd}(m, n, p)$?\n",
    "\n",
    "    In order to find the GCD, firstly, we need to find the smallest power of each common factor of that appear in these numbers.\n",
    "\n",
    "   The common prime factors are 2 and 7.\n",
    "\n",
    "   For prime number 2, so $2^3$ is the smallest.\n",
    "\n",
    "   For prime number 7, so $7^4$ is the smallest.\n",
    "\n",
    "   Other prime numbers don't appear in all 3 numbers. Therefore, these numbers don't contribute to the GCD.\n",
    "\n",
    "   The GCD for all 3 numbers is $2^3 * 7^4 = 19208$.  \n",
    "    \n",
    "    (b) What is $\\mathrm{lcm}(m, n, p)$?\n",
    "\n",
    "   In order to find the lcm, we need to find the maximum power of each prime factor:\n",
    "\n",
    "   For the prime number 2, $2^9$ is the greatest.\n",
    "\n",
    "   For the prime number 3, $3^4$ is the greatest.\n",
    "\n",
    "   For the prime number 5, $5^24$ is the greatest.\n",
    "\n",
    "   For the prime number 7, $7^{6042}$ is the greatest.\n",
    "\n",
    "   For the prime number 11, $11^{211}$ is the greatest.\n",
    "\n",
    "   For the prime number 19, $19^{30}$ is the greatest.\n",
    "\n",
    "   Therefore, $lcm(m, n, p) =  2^9 * 3^4 * 5^24 *  7^{6042} * 11^{211} * 19^{30}$\n",
    "\n",
    "    For $k \\geq 1$, define $\\nu_k(n)$ to be the largest power of $k$ that divides $n$. For a non-empty set $A$ of natural numbers, define $\\nu_k(A) = \\{\\nu_k(a) : a\\in A\\}$. \n",
    "\n",
    "   \n",
    "    (c) Express $\\nu_k(\\mathrm{gcd}(A))$ in terms of $\\nu_k(A)$.\n",
    "\n",
    "    For a non-empty set A of natural numbers, $v_k(GCD(A)) = min(v_k(A))$\n",
    "\n",
    "    (d) For $p$ a prime number, express $\\nu_p(\\mathrm{lcm}(A))$ in terms of $\\nu_p(A)$.\n",
    "\n",
    "   For a non-empty set A of natural numbers, $v_p(LCM(A))= max (v_p(A))$ \n",
    "\n",
    "    (e) Give an example of integers $a, b$ where $\\nu_6(\\mathrm{lcm}(a, b)) > \\max(\\nu_6(a),  \\nu_6(b))$.\n",
    "\n",
    "   let a = 2 and b = 3\n",
    "\n",
    "   we have that $v_6(2) = 0$ because 6 doesn't divide 2\n",
    "\n",
    "   $v_6(3) = 0 $ because 6 doesn't divide 3\n",
    "\n",
    "   LCM(2, 3) = 6 and $v_6(6) = 1$\n",
    "\n",
    "   so $\\nu_6(\\mathrm{lcm}(a, b)) > \\max(\\nu_6(a),  \\nu_6(b))$ because 1 > 0\n",
    "\n",
    "1. (EG 3.76) \n",
    "\n",
    "    (a) If a decimal number ends in $5$, then it is divisible by $5$. Explain why!\n",
    "\n",
    "   Any number ending with 5 can be written as 10k + 5 for k is some decimal number.\n",
    "\n",
    "   Because of $10 * k + 5$ = $ 2 * 5 * k$ = $5 (2 * k + 1)$, the number is divisible by 5\n",
    "    \n",
    "    (b) If the sum of the digits in a decimal number is divisible by $9$, then the number itself is divisible by $9$. In fact, the sum of the digits is equal to the number itself modulo $9$. Explain why!\n",
    "\n",
    "    A number presented as $a_1a_2...a_n$ can be wrriten as $a_1*10^{n-1} + a_2*10^{n-2}+ ... + a_n$ \n",
    "   \n",
    "    Since $10^k\\equiv 1 (mod 9)$, we know that $a * 10^k\\equiv a (mod 9) $ for $a \\neq 10$\n",
    "\n",
    "    This means that a number will leave the same remainder when divided by 9 as its digit sum.\n",
    "\n",
    "   \n",
    "    (c) Think of which other numbers the method in (a) is applicable to, and formulate the general case.\n",
    "\n",
    "    In base 10, this rules works for 2 and 5 (divisors of 10).\n",
    "\n",
    "    General case: A number in base b is divisible by d if and only if its last digit is divisible by d, when d is a divisor of b\n",
    "   \n",
    "    (d) Do the same for the method in (b).\n",
    "\n",
    "   In base 10, this rule works for 3 and 9.\n",
    "\n",
    "   General case: A number in base b is divisible by d if and only if the sum of its digits is divisible by d, whenever d is a divisor of (b-1)"
   ]
  },
  {
   "cell_type": "markdown",
   "metadata": {},
   "source": [
    "### Programming Exercise\n",
    "In this programming assignment you will explore the *Sieve of Eratosthenes*, an ancient algorithm for finding all prime numbers up to a given limit. \n",
    "\n",
    "To find all primes less than or equal to a given integer $n$, the Sieve of Eratosthenes proceeds in the following steps.\n",
    "1. Create a list $L$ of consecutive integers up to $n$: $L = (2, 3, \\ldots, n)$.\n",
    "\n",
    "2. Initialize $p=2$, the smallest prime number. \n",
    "\n",
    "3. Enumerate the multiples of $p$ as $2p, 3p, \\ldots, kp$ until $kp>n$. Mark all these numbers in $L$ as not prime. \n",
    "\n",
    "4. Find the smallest number in $L$ greater than $p$ which is not marked. If no such number exists, terminate. Otherwise, let $p$ equal this new number and repeat from step $3$.\n",
    "\n",
    "5. Output all numbers not marked; they are all prime numbers smaller than or equal to $n$.  \n",
    "\n",
    "**Task 1:** Implement the Sieve of Eratosthenes as a python function `eratosthenes(n)` as described in Steps 1-5 and find the $10$ largest prime numbers that are smaller than $1\\;000\\;000$. Hint: for better performance, let the list consist of either True or False instead of the numbers themselves, and let the numbers be represented by the index of this Boolean in the list.\n"
   ]
  },
  {
   "cell_type": "code",
   "execution_count": 6,
   "metadata": {},
   "outputs": [],
   "source": [
    "def eratosthenes(n):\n",
    "    primes = [True for i in range (n+1)]\n",
    "    primes[0] = False # 0 and 1 is not prime numbers\n",
    "    primes[1] = False\n",
    "\n",
    "    p = 2 # the first prime number\n",
    "\n",
    "    while p <= n:\n",
    "        if primes[p]:\n",
    "            for i in range(2*p, n+1, p):\n",
    "                primes[i] = False\n",
    "        # move to the next smallest prime number\n",
    "        p+=1\n",
    "\n",
    "    # based on indices, filter out all prime numbers up to n\n",
    "    results = []\n",
    "    for i in range(2, n+1):\n",
    "        if primes[i]:\n",
    "            results.append(i)\n",
    "    return results \n"
   ]
  },
  {
   "cell_type": "code",
   "execution_count": 2,
   "metadata": {},
   "outputs": [
    {
     "name": "stdout",
     "output_type": "stream",
     "text": [
      "[2, 3, 5, 7, 11, 13, 17, 19, 23, 29]\n"
     ]
    }
   ],
   "source": [
    "print(eratosthenes(30))"
   ]
  },
  {
   "cell_type": "markdown",
   "metadata": {},
   "source": [
    "We now discuss two optimizations of the sieve. The first is to halt when $p> \\sqrt{n}$. The second is, given $p$, to start enumerating the multiples of $p$ from $p \\cdot p$ instead of $2p$.\n",
    "\n",
    "**Task 2:** Explain why these optimizations do not make the algorithm miss a prime. \n",
    "\n",
    "For the first optimization, the loop should halt when $p> \\sqrt{n}$. If n is a composite number, then n can be written as $n=a*b$ for some integers a,b > 1. \n",
    "\n",
    "If both $a >\\sqrt(n)$ and ($b >\\sqrt(n)$) then a * b > n. This leads to a contradiction. Therefore, $a \\leq \\sqrt(n)$ or $b \\leq \\sqrt(n)$ (or both). If $a \\leq \\sqrt(n)$ then we can conclude that a is a prime or a has a prime factor. This guarantees that we can find at least one prime number that is smaller than $\\sqrt(n)$. With the newly founded prime number, the process of marking non-prime numbers can be continued up to n. \n",
    "\n",
    "To enumerate from multiples of p from  $p \\cdot p$ will guarantee that we will not miss any non-prime numbers due to the fact that all multiples of p less than $p^2$ would be marked as composite by smaller prime numbers.  \n",
    "\n",
    "**Task 3:** Implement these optimizations into a new sieve `eratosthenes_opt(n)`. Run both `eratosthenes(n)` and `eratosthenes_opt(n)` on all integers in the list $(1\\;000, 10\\;000, 100\\;000, 1\\;000\\;000, 10\\;000\\;000)$ and compare their running times on each instance. You can measure the execution time of a program in Python using the `time` package and the function `time.time()`; see [this link](https://stackoverflow.com/questions/1557571/how-do-i-get-time-of-a-python-programs-execution) for an example. "
   ]
  },
  {
   "cell_type": "code",
   "execution_count": 19,
   "metadata": {},
   "outputs": [
    {
     "name": "stdout",
     "output_type": "stream",
     "text": [
      "0.00099945068359375 0.0\n",
      "0.002045154571533203 0.0019567012786865234 speed up 1.0452053125380774\n",
      "0.025000810623168945 0.01599717140197754 speed up 1.5628269520246807\n",
      "0.399000883102417 0.2089989185333252 speed up 1.9091050130902745\n",
      "3.6650445461273193 2.23295521736145 speed up 1.6413426107390023\n"
     ]
    }
   ],
   "source": [
    "import math\n",
    "import time\n",
    "\n",
    "\n",
    "def eratosthenes_opt(n):\n",
    "    primes = [True for i in range (n+1)]\n",
    "    primes[0] = False # 0 and 1 is not prime numbers\n",
    "    primes[1] = False\n",
    "\n",
    "    p = 2 # the first prime number\n",
    "\n",
    "    while p*p <= n: # only check up to sqrt(n)\n",
    "        if primes[p]:\n",
    "            for i in range(p*p, n+1, p):\n",
    "                primes[i] = False\n",
    "        # move to the next smallest prime number\n",
    "        p+=1\n",
    "\n",
    "    # based on indices, filter out all prime numbers up to n\n",
    "    results = []\n",
    "    for i in range(2, n+1):\n",
    "        if primes[i]:\n",
    "            results.append(i)\n",
    "    return results\n",
    "\n",
    "def test():\n",
    "    values = [1000, 10000, 100000, 1000000, 10000000]\n",
    "    \n",
    "    for v in values: \n",
    "        # original \n",
    "        start1 = time.time()\n",
    "        eratosthenes(v)\n",
    "        time1 = time.time() - start1\n",
    "    \n",
    "        #optimized\n",
    "        start2 = time.time()\n",
    "        eratosthenes_opt(v)\n",
    "        time2 = time.time() - start2\n",
    "        if time1 == 0 or time2 == 0:\n",
    "            print(f\"{time1} {time2}\")\n",
    "        else:\n",
    "            print(f\"{time1} {time2} speed up {time1/time2}\")\n",
    "    \n",
    "test()"
   ]
  },
  {
   "cell_type": "markdown",
   "metadata": {},
   "source": [
    "\n",
    "**Task 4:** Which of the optimizations do you think is most significant? Try your hypothesis by modifying your code from Tasks 1 and 3.\n",
    "\n",
    "I think the second optimization is most significant."
   ]
  },
  {
   "cell_type": "code",
   "execution_count": 15,
   "metadata": {},
   "outputs": [
    {
     "name": "stdout",
     "output_type": "stream",
     "text": [
      "0.0 0.0009891986846923828\n",
      "0.0030367374420166016 0.001996278762817383 speed up 1.521199092320554\n",
      "0.02195882797241211 0.023012876510620117 speed up 0.954197445168509\n",
      "0.38999223709106445 0.27100038528442383 speed up 1.4390836997584147\n",
      "3.574733257293701 2.990379810333252 speed up 1.1954111129767586\n"
     ]
    }
   ],
   "source": [
    "# the first optimization only\n",
    "test()"
   ]
  },
  {
   "cell_type": "code",
   "execution_count": 17,
   "metadata": {
    "scrolled": true
   },
   "outputs": [
    {
     "name": "stdout",
     "output_type": "stream",
     "text": [
      "0.0005936622619628906 0.00040721893310546875 speed up 1.4578454332552693\n",
      "0.0030307769775390625 0.001027822494506836 speed up 2.948735792159592\n",
      "0.024022817611694336 0.01798415184020996 speed up 1.3357770677838023\n",
      "0.34702229499816895 0.2250049114227295 speed up 1.5422876452069905\n",
      "3.4906044006347656 2.141373872756958 speed up 1.6300770477509898\n"
     ]
    }
   ],
   "source": [
    "# the second optimization only\n",
    "test()"
   ]
  },
  {
   "cell_type": "markdown",
   "metadata": {},
   "source": [
    "From the results presented above, we see that the second optimization is the most significant for greater integer."
   ]
  },
  {
   "cell_type": "code",
   "execution_count": null,
   "metadata": {},
   "outputs": [],
   "source": []
  }
 ],
 "metadata": {
  "kernelspec": {
   "display_name": "Python 3 (ipykernel)",
   "language": "python",
   "name": "python3"
  },
  "language_info": {
   "codemirror_mode": {
    "name": "ipython",
    "version": 3
   },
   "file_extension": ".py",
   "mimetype": "text/x-python",
   "name": "python",
   "nbconvert_exporter": "python",
   "pygments_lexer": "ipython3",
   "version": "3.12.9"
  }
 },
 "nbformat": 4,
 "nbformat_minor": 4
}
