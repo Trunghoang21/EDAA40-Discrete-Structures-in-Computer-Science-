{
 "cells": [
  {
   "cell_type": "markdown",
   "metadata": {},
   "source": [
    "# Assignment 2: Predicates and Sets\n",
    "\n",
    "*If something in assignment is unclear or does not make sense, make a note and ask the lecturer, a TA in the exercise session, or a friend!*\n",
    "\n",
    "### Homework Exercises\n",
    "\n",
    "Solutions to the following exercises are to be handed in for peer grading, either typed or handwritten. Write neatly and concisely, so the solutions are easy to read. You are allowed (even encouraged) to work in groups, but solutions have to be written and handed in individually. If you worked in groups, please state on your answer sheet who you worked with. \n",
    "\n",
    "1. Express each of the following predicates and propositions in formal predicate logic notation. The domain is the natural numbers $\\mathbb{N}$. You may define predicates involving logical symbols ($\\land$, $\\lor$, $\\neg$, $\\to$, $\\forall$, $\\exists$), but also the arithmetic symbols $+$, $\\cdot$, $=$ and any integer constants $0, 1, \\dots$. You may *not* use exponentiation symbols, $x^y$. For example, the predicate \"$n$ is an even number\" could be defined as $\\operatorname{Even}(n) := \\exists m. (2m = n)$ or as $\\operatorname{Even}'(n) := \\exists m. (m + m = n)$.\n",
    "\n",
    "    * $m$ is a divisor of $n$.\n",
    "    * $n$ is a prime number.\n",
    "    * $n$ is a power of a prime.\n",
    "        \n",
    "2. Prove De Morgan's law for set equality, which states that for all sets $A$ and $B$,\n",
    "$$\n",
    "\\overline{A \\cap B} = \\overline{A} \\cup \\overline{B}.\n",
    "$$ \n",
    "Do so by providing a chain of if and only ifs that an element $x$ is contained in the left hand-side of the equation above if and only if $x$ is contained in the right hand-side. You may use the propositional version of De Morgan's law in equation 3.11 in MIT, stating that for propositions $p$ and $q$, $\\neg (p \\land q) \\equiv \\neg p \\lor \\neg q$.\n",
    "   \n",
    "3. A predicate formula is in *prenex form* when all its quantifiers come at the beginning. For example, \n",
    "$$ \\forall x \\exists y \\forall z \\exists w (P(x, w) \\land (Q(x, y) \\lor R(z))) $$\n",
    "is in prenex form.\n",
    "\n",
    "It turns out that every predicate logic formula can be rewritten in prenex form following these steps. In order to do this, use De Morgan's laws to push negations into the formula: $\\neg \\forall x. P(x)$ becomes $\\exists x. \\neg P(x)$, and vice versa. When doing this, read the formulas out loud to make sure the transformation make sense to you.\n",
    "\n",
    "With this in mind, write the following predicate formula in prenex form: \n",
    "\n",
    "$$\\neg (\\forall x. \\exists y. P(x) \\land Q(x, y)) \\lor   (  (\\exists x. R(x, y))  \\lor \\exists z. \\forall x. (S(z) \\land T(x) ) ).$$\n"
   ]
  },
  {
   "cell_type": "markdown",
   "metadata": {},
   "source": [
    "1. Express given predicates and propositions in formal predicate logic notation.\n",
    "* m is a divisor of n \n",
    "\n",
    "$Devides(m, n):= \\exists c \\in N+ .(m * c = n)$\n",
    "\n",
    "* n is a prime number\n",
    "\n",
    "For this predicate, i'm using the negation of composite numbers\n",
    "\n",
    "$prime (x):= x > 1 \\land \\neg(\\exists a, b \\in N.( a > 1 \\land b > 1 \\land a \\times b = x) ) $\n",
    "\n",
    "* n is a power of a prime.\n",
    "\n",
    "For this predicate, I'm using the notation for a prime number specified above. \n",
    "\n",
    "$ Power of prime (n) := n > 0 \\land \\exists p.( prime(p)\\land devides(p,n) ) \\land \\forall q. Prime(p) \\land Divides(q, n) \\implies q = p   $\n"
   ]
  },
  {
   "cell_type": "markdown",
   "metadata": {},
   "source": [
    "2. Prove De Morgan's law for set equality for all sets A and B: $\\overline{A \\cap B} = \\overline{A} \\cup \\overline{B}.$\n",
    "\n",
    "Proving for x belongs to the left hand-side of the equation if and only if x is contained in the right-hand side of the equation.\n",
    "\n",
    "$$ \n",
    "\\begin{align*}              \n",
    "    \\forall x \\in \\overline{A \\cap B} \\iff  x \\notin {(A \\cap B)} \\\\\n",
    "    \\iff x \\in \\neg {(A \\cap B)} \\\\\n",
    "    \\iff x \\in (\\neg A \\cup \\neg B)\n",
    "\\end{align*}\n",
    "$$\n",
    "\n",
    "\n"
   ]
  },
  {
   "cell_type": "markdown",
   "metadata": {},
   "source": [
    "Rewrite the predicate logic formula in prenex form.\n",
    "$$\\neg (\\forall x. \\exists y. P(x) \\land Q(x, y)) \\lor   (  (\\exists x. R(x, y))  \\lor \\exists z. \\forall x. (S(z) \\land T(x) ) ).$$\n",
    "\n",
    "    1. First, we need to push the negations inward using De Morgan's law\n",
    "\n",
    "$$ (\\exists x. \\forall y. \\neg P(x) \\lor \\neg Q(x, y)) \\lor   (  (\\exists x. R(x, y))  \\lor \\exists z. \\forall x. (S(z) \\land T(x) ) ).$$\n",
    "    \n",
    "    2. To avoid variable conflicts, we need to rename the variables\n",
    "        * x1, y1 for the first part\n",
    "        * x2 for the second part\n",
    "        * z, x3 for the third part\n",
    "\n",
    "$$ (\\exists x_1. \\forall y_1. \\neg P(x_1) \\lor \\neg Q(x_1, y_1)) \\lor   (  (\\exists x_2. R(x_2, y))  \\lor \\exists z. \\forall x_3. (S(z) \\land T(x_3) ) ).$$\n",
    "\n",
    "    3. Moving the quantifiers to the front, we have:\n",
    "\n",
    "$$ \\exists x_1. \\forall y_1. \\exists x_2. \\exists z. \\forall x_3. (\\neg P(x_1) \\lor \\neg Q(x_1, y_1)) \\lor    (R(x_2, y)  \\lor   (S(z) \\land T(x_3)) .$$"
   ]
  },
  {
   "cell_type": "markdown",
   "metadata": {},
   "source": [
    "### Programming Exercise\n",
    "In this exercise you will design a Python function that takes a set $S$ as input and outputs its power set using a correspondence between sets and strings stated below in Observation 1.\n",
    "\n",
    "**Observation 1:** Consider a set $S = \\{s_1, \\ldots, s_n\\}$ with $n$ elements. There is a function that maps a subset $T = \\{s_{i_1}, \\ldots, s_{i_k}\\}$ of $S$ to the string of length $n$ that has $1$-s precisely at the indices $i_1, \\ldots, i_k$ and $0$-s everywhere else. \n",
    "\n",
    "(What string would we identify $S$ itself with? What about the empty set?)\n",
    "\n",
    "**Task 1:** Write a Python function `binary_strings` that takes as input a natural number $n$ and outputs a list containing all binary strings of length $n$.\n"
   ]
  },
  {
   "cell_type": "code",
   "execution_count": 5,
   "metadata": {},
   "outputs": [
    {
     "name": "stdout",
     "output_type": "stream",
     "text": [
      "['000', '001', '010', '011', '100', '101', '110', '111']\n"
     ]
    }
   ],
   "source": [
    "def binary_strings(n):\n",
    "    # Use a recursive approach for this problem. \n",
    "    if (n == 0):\n",
    "        return ['']\n",
    "    # \n",
    "    re = [] \n",
    "    smaller_strings = binary_strings(n - 1)\n",
    "\n",
    "    for element in smaller_strings:\n",
    "        re.append(element + '0')\n",
    "        re.append(element + '1')\n",
    "    return re\n",
    "\n",
    "print(binary_strings(3))"
   ]
  },
  {
   "cell_type": "markdown",
   "metadata": {},
   "source": [
    "**Task 2:** Use **Observation 1** to write a Python function called `subsets` that takes a set $S$ as input and outputs a list of all subsets of $S$, using `binary_strings` as a helper function."
   ]
  },
  {
   "cell_type": "code",
   "execution_count": 11,
   "metadata": {},
   "outputs": [
    {
     "name": "stdout",
     "output_type": "stream",
     "text": [
      "[set(), {3}, {2}, {2, 3}, {1}, {1, 3}, {1, 2}, {1, 2, 3}]\n"
     ]
    }
   ],
   "source": [
    "def subsets(S):\n",
    "    re = list()\n",
    "    combinations = binary_strings(len(S))\n",
    "    for string in combinations:\n",
    "        subset = set()\n",
    "        for i in range (len(S)):\n",
    "            if string[i] == \"1\": \n",
    "                subset.add(list(S)[i])\n",
    "        re.append(subset)\n",
    "    return re\n",
    "\n",
    "print(subsets(set([1, 2, 3])))"
   ]
  },
  {
   "cell_type": "markdown",
   "metadata": {},
   "source": [
    "**Task 3:** How many subsets of a set with $n$ elements are there? You can use `subsets` to try small cases and use **Observation 1** for the general case."
   ]
  },
  {
   "cell_type": "markdown",
   "metadata": {},
   "source": [
    "For a set with n elements, the following observations can be made:\n",
    "1. Each element can be either included or excluded from a subset.\n",
    "2. Two possible choices for each element.\n",
    "So the number of subsets equals to the possible combinations of n elements. With n elements, we have $2^n$ possible combinations\n",
    " \n"
   ]
  },
  {
   "cell_type": "code",
   "execution_count": null,
   "metadata": {},
   "outputs": [],
   "source": []
  }
 ],
 "metadata": {
  "kernelspec": {
   "display_name": "Python 3 (ipykernel)",
   "language": "python",
   "name": "python3"
  },
  "language_info": {
   "codemirror_mode": {
    "name": "ipython",
    "version": 3
   },
   "file_extension": ".py",
   "mimetype": "text/x-python",
   "name": "python",
   "nbconvert_exporter": "python",
   "pygments_lexer": "ipython3",
   "version": "3.13.2"
  }
 },
 "nbformat": 4,
 "nbformat_minor": 4
}
